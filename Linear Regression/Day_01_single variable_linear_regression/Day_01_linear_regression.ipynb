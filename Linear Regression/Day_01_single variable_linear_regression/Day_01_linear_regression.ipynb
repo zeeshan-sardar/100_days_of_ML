{
 "cells": [
  {
   "cell_type": "code",
   "execution_count": 1,
   "metadata": {},
   "outputs": [],
   "source": [
    "import matplotlib.pyplot as plt\n",
    "import numpy as np\n",
    "from sklearn import datasets, linear_model\n",
    "from sklearn.metrics import mean_squared_error, r2_score"
   ]
  },
  {
   "cell_type": "code",
   "execution_count": 2,
   "metadata": {
    "scrolled": true
   },
   "outputs": [
    {
     "name": "stdout",
     "output_type": "stream",
     "text": [
      "Coefficients:  [306.72757499]\n",
      "Intercept:  153.24279071761313\n",
      "Mean squared error:  5472.26\n",
      "Coefficient of determination: -0.13\n",
      "(20, 1) (20,)\n"
     ]
    },
    {
     "data": {
      "image/png": "[encoded data removed]",
      "text/plain": [
       "<Figure size 432x288 with 1 Axes>"
      ]
     },
     "metadata": {},
     "output_type": "display_data"
    }
   ],
   "source": [
    "#import diabetes dataset from sklearn\n",
    "diabetes_X, diabetes_y = datasets.load_diabetes(return_X_y=True)\n",
    "\n",
    "# reducing to one dimention\n",
    "diabetes_X = diabetes_X[:,:1]\n",
    "\n",
    "#split into test and train datasets\n",
    "diabetes_X_train = diabetes_X[:-20]\n",
    "diabetes_X_test = diabetes_X[-20:]\n",
    "diabetes_y_train = diabetes_y[:-20]\n",
    "diabetes_y_test = diabetes_y[-20:]\n",
    "\n",
    "#create linear model\n",
    "regr = linear_model.LinearRegression()\n",
    "\n",
    "#train the model using training data\n",
    "regr.fit(diabetes_X_train, diabetes_y_train)\n",
    "\n",
    "#make the prediction using test data\n",
    "diabetes_y_pred = regr.predict(diabetes_X_test)\n",
    "\n",
    "#check the coef. values\n",
    "print('Coefficients: ',regr.coef_)\n",
    "print('Intercept: ',regr.intercept_)\n",
    "#mean squared error\n",
    "print(f'Mean squared error: {mean_squared_error(diabetes_y_test, diabetes_y_pred): 0.2f}')\n",
    "# The coefficient of determination: 1 is perfect prediction\n",
    "print(f'Coefficient of determination: {r2_score(diabetes_y_test, diabetes_y_pred): 0.2f}')\n",
    "\n",
    "#plots\n",
    "print(np.shape(diabetes_X_test), np.shape(diabetes_y_test))\n",
    "plt.scatter(diabetes_X_test, diabetes_y_test, color='black')\n",
    "plt.plot(diabetes_X_test, diabetes_y_pred, color='blue', linewidth = 3)\n",
    "\n",
    "plt.xticks(())\n",
    "plt.yticks(())\n",
    "\n",
    "plt.show()"
   ]
  },
  {
   "cell_type": "markdown",
   "metadata": {},
   "source": [
    "# Ridge Regularization\n"
   ]
  },
  {
   "cell_type": "code",
   "execution_count": 9,
   "metadata": {},
   "outputs": [
    {
     "name": "stdout",
     "output_type": "stream",
     "text": [
      "Ridge Coeff:  [2.92912715]\n",
      "Ridge Intercept:  153.36141549962105\n"
     ]
    }
   ],
   "source": [
    "ridge = linear_model.Ridge(alpha=100)\n",
    "ridge.fit(diabetes_X_train,diabetes_y_train)\n",
    "print(\"Ridge Coeff: \", ridge.coef_)\n",
    "print('Ridge Intercept: ', ridge.intercept_)"
   ]
  },
  {
   "cell_type": "code",
   "execution_count": null,
   "metadata": {},
   "outputs": [],
   "source": []
  }
 ],
 "metadata": {
  "kernelspec": {
   "display_name": "Python 3",
   "language": "python",
   "name": "python3"
  },
  "language_info": {
   "codemirror_mode": {
    "name": "ipython",
    "version": 3
   },
   "file_extension": ".py",
   "mimetype": "text/x-python",
   "name": "python",
   "nbconvert_exporter": "python",
   "pygments_lexer": "ipython3",
   "version": "3.7.4"
  }
 },
 "nbformat": 4,
 "nbformat_minor": 4
}
